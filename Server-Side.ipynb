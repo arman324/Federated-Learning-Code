{
 "cells": [
  {
   "cell_type": "code",
   "execution_count": 1,
   "id": "d3e12bcf",
   "metadata": {},
   "outputs": [],
   "source": [
    "import numpy as np\n",
    "import pandas as pd\n",
    "from sklearn import tree\n",
    "from sklearn.metrics import accuracy_score\n",
    "from sklearn.ensemble import RandomForestClassifier\n",
    "import random\n",
    "import math\n",
    "from torch.utils.tensorboard import SummaryWriter\n",
    "from matplotlib import pyplot\n",
    "\n",
    "\n",
    "from pathlib import Path\n",
    "import requests\n",
    "import pickle\n",
    "import gzip\n",
    "\n",
    "import torch\n",
    "import math\n",
    "import torch.nn.functional as F\n",
    "from torch import nn\n",
    "from torch import optim\n",
    "import torchvision\n",
    "import torchvision.transforms as transforms\n",
    "from torch.utils.data import TensorDataset\n",
    "from torch.utils.data import DataLoader\n",
    "\n",
    "pd.options.display.float_format = \"{:,.4f}\".format"
   ]
  },
  {
   "cell_type": "code",
   "execution_count": 2,
   "id": "4e861d22",
   "metadata": {},
   "outputs": [],
   "source": [
    "FILENAME = \"mnist.pkl.gz\"\n",
    "DATA_PATH = Path(\"/Users/arman\")\n",
    "PATH = DATA_PATH / \"Downloads\"\n",
    "with gzip.open((PATH / FILENAME).as_posix(), \"rb\") as f:\n",
    "        ((x_train, y_train), (x_valid, y_valid), (x_test, y_test)) = pickle.load(f, encoding=\"latin-1\")"
   ]
  },
  {
   "cell_type": "code",
   "execution_count": 3,
   "id": "a5fad2af",
   "metadata": {},
   "outputs": [],
   "source": [
    "#Classification Model"
   ]
  },
  {
   "cell_type": "code",
   "execution_count": 4,
   "id": "09532479",
   "metadata": {},
   "outputs": [],
   "source": [
    "class Net2nn(nn.Module):\n",
    "    def __init__(self):\n",
    "        super(Net2nn, self).__init__()\n",
    "        self.fc1=nn.Linear(784,200)\n",
    "        self.fc2=nn.Linear(200,200)\n",
    "        self.fc3=nn.Linear(200,10)\n",
    "        \n",
    "    def forward(self,x):\n",
    "        x=F.relu(self.fc1(x))\n",
    "        x=F.relu(self.fc2(x))\n",
    "        x=self.fc3(x)\n",
    "        return x"
   ]
  },
  {
   "cell_type": "code",
   "execution_count": 5,
   "id": "28a11a45",
   "metadata": {},
   "outputs": [],
   "source": [
    "class WrappedDataLoader:\n",
    "    def __init__(self, dl, func):\n",
    "        self.dl = dl\n",
    "        self.func = func\n",
    "\n",
    "    def __len__(self):\n",
    "        return len(self.dl)\n",
    "\n",
    "    def __iter__(self):\n",
    "        batches = iter(self.dl)\n",
    "        for b in batches:\n",
    "            yield (self.func(*b))"
   ]
  },
  {
   "cell_type": "code",
   "execution_count": 6,
   "id": "8c688a1f",
   "metadata": {},
   "outputs": [],
   "source": [
    "def train(model, train_loader, criterion, optimizer):\n",
    "    model.train()\n",
    "    train_loss = 0.0\n",
    "    correct = 0\n",
    "\n",
    "    for data, target in train_loader:\n",
    "        output = model(data)\n",
    "        loss = criterion(output, target)\n",
    "        optimizer.zero_grad()\n",
    "        loss.backward()\n",
    "        optimizer.step()\n",
    "        \n",
    "        train_loss += loss.item()\n",
    "        prediction = output.argmax(dim=1, keepdim=True)\n",
    "        correct += prediction.eq(target.view_as(prediction)).sum().item()\n",
    "        \n",
    "\n",
    "    return train_loss / len(train_loader), correct/len(train_loader.dataset)"
   ]
  },
  {
   "cell_type": "code",
   "execution_count": 7,
   "id": "965fa7a7",
   "metadata": {},
   "outputs": [],
   "source": [
    "def validation(model, test_loader, criterion):\n",
    "    model.eval()\n",
    "    test_loss = 0.0\n",
    "    correct = 0\n",
    "    with torch.no_grad():\n",
    "        for data, target in test_loader:\n",
    "            output = model(data)\n",
    "            \n",
    "            test_loss += criterion(output, target).item()\n",
    "            prediction = output.argmax(dim=1, keepdim=True)\n",
    "            correct += prediction.eq(target.view_as(prediction)).sum().item()\n",
    "\n",
    "    test_loss /= len(test_loader)\n",
    "    correct /= len(test_loader.dataset)\n",
    "\n",
    "    return (test_loss, correct)"
   ]
  },
  {
   "cell_type": "code",
   "execution_count": 8,
   "id": "d40eb32d",
   "metadata": {},
   "outputs": [],
   "source": [
    "# This function compares the accuracy of the main model \n",
    "# and the local model running on each node.\n",
    "def compare_local_and_merged_model_performance(number_of_samples):\n",
    "    accuracy_table=pd.DataFrame(data=np.zeros((number_of_samples,3)), columns=[\"sample\", \"local_ind_model\", \"merged_main_model\"])\n",
    "    for i in range (number_of_samples):\n",
    "    \n",
    "        test_ds = TensorDataset(x_test_dict[name_of_x_test_sets[i]], y_test_dict[name_of_y_test_sets[i]])\n",
    "        test_dl = DataLoader(test_ds, batch_size=batch_size * 2)\n",
    "    \n",
    "        model=model_dict[name_of_models[i]]\n",
    "        criterion=criterion_dict[name_of_criterions[i]]\n",
    "        optimizer=optimizer_dict[name_of_optimizers[i]]\n",
    "    \n",
    "        individual_loss, individual_accuracy = validation(model, test_dl, criterion)\n",
    "        main_loss, main_accuracy =validation(main_model, test_dl, main_criterion )\n",
    "    \n",
    "        accuracy_table.loc[i, \"sample\"]=\"sample \"+str(i)\n",
    "        accuracy_table.loc[i, \"local_ind_model\"] = individual_accuracy\n",
    "        accuracy_table.loc[i, \"merged_main_model\"] = main_accuracy\n",
    "\n",
    "    return accuracy_table"
   ]
  },
  {
   "cell_type": "code",
   "execution_count": 9,
   "id": "5860d752",
   "metadata": {},
   "outputs": [],
   "source": [
    "#Functions for Federated Averaging "
   ]
  },
  {
   "cell_type": "code",
   "execution_count": 10,
   "id": "2f3e1f33",
   "metadata": {},
   "outputs": [],
   "source": [
    "#Optimizers are algorithms or methods used to minimize an\n",
    "# error function(loss function)or to maximize the efficiency of production. \n",
    "\n",
    "# This function creates a model, optimizer and loss function for each node.\n",
    "def create_model_optimizer_criterion_dict(number_of_samples):\n",
    "    model_dict = dict()\n",
    "    optimizer_dict= dict()\n",
    "    criterion_dict = dict()\n",
    "    \n",
    "    for i in range(number_of_samples):\n",
    "        model_name=\"model\"+str(i)\n",
    "        model_info=Net2nn()\n",
    "        model_dict.update({model_name : model_info })\n",
    "        \n",
    "        optimizer_name=\"optimizer\"+str(i)\n",
    "        optimizer_info = torch.optim.SGD(model_info.parameters(), lr=learning_rate, momentum=momentum)\n",
    "        optimizer_dict.update({optimizer_name : optimizer_info })\n",
    "        \n",
    "        criterion_name = \"criterion\"+str(i)\n",
    "        criterion_info = nn.CrossEntropyLoss()\n",
    "        criterion_dict.update({criterion_name : criterion_info})\n",
    "        \n",
    "        \n",
    "    return model_dict, optimizer_dict, criterion_dict"
   ]
  },
  {
   "cell_type": "code",
   "execution_count": 11,
   "id": "3df753ab",
   "metadata": {},
   "outputs": [],
   "source": [
    "# This function takes the average of the weights in individual nodes.\n",
    "\n",
    "def get_averaged_weights(model_dict, number_of_samples):\n",
    "   \n",
    "    fc1_mean_weight = torch.zeros(size=model_dict[name_of_models[0]].fc1.weight.shape)\n",
    "    fc1_mean_bias = torch.zeros(size=model_dict[name_of_models[0]].fc1.bias.shape)\n",
    "    \n",
    "    fc2_mean_weight = torch.zeros(size=model_dict[name_of_models[0]].fc2.weight.shape)\n",
    "    fc2_mean_bias = torch.zeros(size=model_dict[name_of_models[0]].fc2.bias.shape)\n",
    "    \n",
    "    fc3_mean_weight = torch.zeros(size=model_dict[name_of_models[0]].fc3.weight.shape)\n",
    "    fc3_mean_bias = torch.zeros(size=model_dict[name_of_models[0]].fc3.bias.shape)\n",
    "    \n",
    "    with torch.no_grad():\n",
    "    \n",
    "    \n",
    "        for i in range(number_of_samples):\n",
    "            fc1_mean_weight += model_dict[name_of_models[i]].fc1.weight.data.clone()\n",
    "            fc1_mean_bias += model_dict[name_of_models[i]].fc1.bias.data.clone()\n",
    "        \n",
    "            fc2_mean_weight += model_dict[name_of_models[i]].fc2.weight.data.clone()\n",
    "            fc2_mean_bias += model_dict[name_of_models[i]].fc2.bias.data.clone()\n",
    "        \n",
    "            fc3_mean_weight += model_dict[name_of_models[i]].fc3.weight.data.clone()\n",
    "            fc3_mean_bias += model_dict[name_of_models[i]].fc3.bias.data.clone()\n",
    "\n",
    "        \n",
    "        fc1_mean_weight =fc1_mean_weight/number_of_samples\n",
    "        fc1_mean_bias = fc1_mean_bias/ number_of_samples\n",
    "    \n",
    "        fc2_mean_weight =fc2_mean_weight/number_of_samples\n",
    "        fc2_mean_bias = fc2_mean_bias/ number_of_samples\n",
    "    \n",
    "        fc3_mean_weight =fc3_mean_weight/number_of_samples\n",
    "        fc3_mean_bias = fc3_mean_bias/ number_of_samples\n",
    "    \n",
    "    return fc1_mean_weight, fc1_mean_bias, fc2_mean_weight, fc2_mean_bias, fc3_mean_weight, fc3_mean_bias"
   ]
  },
  {
   "cell_type": "code",
   "execution_count": 12,
   "id": "2c9bb6af",
   "metadata": {},
   "outputs": [],
   "source": [
    "# This function sends the averaged weights of individual nodes \n",
    "# to the main model and sets them as the new weights of the main model. ( calls def get_averaged_weights(model_dict, number_of_samples))\n",
    "\n",
    "def set_averaged_weights_as_main_model_weights_and_update_main_model(main_model,model_dict, number_of_samples):\n",
    "    fc1_mean_weight, fc1_mean_bias, fc2_mean_weight, fc2_mean_bias, fc3_mean_weight, fc3_mean_bias = get_averaged_weights(model_dict, number_of_samples=number_of_samples)\n",
    "    with torch.no_grad():\n",
    "        main_model.fc1.weight.data = fc1_mean_weight.data.clone()\n",
    "        main_model.fc2.weight.data = fc2_mean_weight.data.clone()\n",
    "        main_model.fc3.weight.data = fc3_mean_weight.data.clone()\n",
    "\n",
    "        main_model.fc1.bias.data = fc1_mean_bias.data.clone()\n",
    "        main_model.fc2.bias.data = fc2_mean_bias.data.clone()\n",
    "        main_model.fc3.bias.data = fc3_mean_bias.data.clone() \n",
    "    return main_model"
   ]
  },
  {
   "cell_type": "code",
   "execution_count": 13,
   "id": "4401ddf4",
   "metadata": {},
   "outputs": [],
   "source": [
    "# This function sends the parameters of the main model to the nodes.\n",
    "# The following data should send from SERVER to each node\n",
    "# So we should save them on a file\n",
    "\n",
    "def send_main_model_to_nodes_and_update_model_dict(main_model,want_print):\n",
    "    with torch.no_grad():\n",
    "            torch.save(main_model.fc1.weight.data.clone(), '/Users/arman/Downloads/Security-project/Main_Model_Parameters/main_model_fc1_weight_data.pt')\n",
    "            torch.save(main_model.fc2.weight.data.clone(), '/Users/arman/Downloads/Security-project/Main_Model_Parameters/main_model_fc2_weight_data.pt')\n",
    "            torch.save(main_model.fc3.weight.data.clone(), '/Users/arman/Downloads/Security-project/Main_Model_Parameters/main_model_fc3_weight_data.pt')\n",
    "            \n",
    "            torch.save(main_model.fc1.bias.data.clone(), '/Users/arman/Downloads/Security-project/Main_Model_Parameters/main_model_fc1_bias_data.pt')\n",
    "            torch.save(main_model.fc2.bias.data.clone(), '/Users/arman/Downloads/Security-project/Main_Model_Parameters/main_model_fc2_bias_data.pt')\n",
    "            torch.save(main_model.fc3.bias.data.clone(), '/Users/arman/Downloads/Security-project/Main_Model_Parameters/main_model_fc3_bias_data.pt')\n",
    "\n",
    "            if (want_print == 1):\n",
    "                print(main_model.fc1.weight.data.clone())\n",
    "                print(\"--------------------------------------------------------\")\n",
    "                print(main_model.fc2.weight.data.clone())\n",
    "                print(\"--------------------------------------------------------\")\n",
    "                print(main_model.fc3.weight.data.clone())\n",
    "                print(\"--------------------------------------------------------\")\n",
    "\n",
    "                print(main_model.fc1.bias.data.clone())\n",
    "                print(\"--------------------------------------------------------\")\n",
    "                print(main_model.fc2.bias.data.clone())\n",
    "                print(\"--------------------------------------------------------\")\n",
    "                print(main_model.fc3.bias.data.clone()) \n",
    "\n"
   ]
  },
  {
   "cell_type": "code",
   "execution_count": 14,
   "id": "2d811fb4",
   "metadata": {},
   "outputs": [],
   "source": [
    "# This function downloads all of the local models\n",
    "\n",
    "def download_local_model_from_each_node(number_of_samples):\n",
    "    with torch.no_grad():\n",
    "        for i in range(number_of_samples):\n",
    "            model_dict[name_of_models[i]].fc1.weight.data = torch.load('/Users/arman/Downloads/Security-project/Local_Model_Parameters/local_model_'+str(i)+'_fc1_weight_data.pt')\n",
    "            model_dict[name_of_models[i]].fc2.weight.data = torch.load('/Users/arman/Downloads/Security-project/Local_Model_Parameters/local_model_'+str(i)+'_fc2_weight_data.pt')\n",
    "            model_dict[name_of_models[i]].fc3.weight.data = torch.load('/Users/arman/Downloads/Security-project/Local_Model_Parameters/local_model_'+str(i)+'_fc3_weight_data.pt')\n",
    "            \n",
    "            model_dict[name_of_models[i]].fc1.bias.data = torch.load('/Users/arman/Downloads/Security-project/Local_Model_Parameters/local_model_'+str(i)+'_fc1_bias_data.pt')\n",
    "            model_dict[name_of_models[i]].fc2.bias.data = torch.load('/Users/arman/Downloads/Security-project/Local_Model_Parameters/local_model_'+str(i)+'_fc2_bias_data.pt')\n",
    "            model_dict[name_of_models[i]].fc3.bias.data = torch.load('/Users/arman/Downloads/Security-project/Local_Model_Parameters/local_model_'+str(i)+'_fc3_bias_data.pt')\n",
    "    \n",
    "    return model_dict"
   ]
  },
  {
   "cell_type": "code",
   "execution_count": 15,
   "id": "19c19ada",
   "metadata": {},
   "outputs": [],
   "source": [
    "x_train, y_train, x_valid, y_valid,x_test, y_test = map(torch.tensor, (x_train, y_train, x_valid, y_valid, x_test, y_test))\n",
    "number_of_samples = 3\n",
    "learning_rate = 0.01\n",
    "numEpoch = 10\n",
    "batch_size = 32\n",
    "momentum = 0.9\n",
    "\n",
    "train_amount = 4500\n",
    "valid_amount = 900\n",
    "test_amount = 900\n",
    "print_amount = 3"
   ]
  },
  {
   "cell_type": "code",
   "execution_count": 16,
   "id": "9a88616f",
   "metadata": {},
   "outputs": [],
   "source": [
    "# Main model is created\n"
   ]
  },
  {
   "cell_type": "code",
   "execution_count": 17,
   "id": "d9c7e9b8",
   "metadata": {},
   "outputs": [],
   "source": [
    "main_model = Net2nn()\n",
    "main_optimizer = torch.optim.SGD(main_model.parameters(), lr=learning_rate, momentum=0.9)\n",
    "main_criterion = nn.CrossEntropyLoss()"
   ]
  },
  {
   "cell_type": "code",
   "execution_count": 18,
   "id": "7848ba76",
   "metadata": {},
   "outputs": [
    {
     "name": "stdout",
     "output_type": "stream",
     "text": [
      "tensor([[ 0.0272,  0.0268,  0.0424,  0.0356, -0.0131]],\n",
      "       grad_fn=<SliceBackward0>)\n"
     ]
    }
   ],
   "source": [
    "print(main_model.fc2.weight[0:1,0:5])\n",
    "\n"
   ]
  },
  {
   "cell_type": "code",
   "execution_count": 19,
   "id": "b086a061",
   "metadata": {},
   "outputs": [
    {
     "name": "stdout",
     "output_type": "stream",
     "text": [
      "tensor([[-0.0286,  0.0323, -0.0252,  ..., -0.0297, -0.0170,  0.0322],\n",
      "        [ 0.0023,  0.0227,  0.0164,  ..., -0.0351,  0.0128, -0.0243],\n",
      "        [-0.0266, -0.0121, -0.0220,  ..., -0.0293,  0.0229,  0.0332],\n",
      "        ...,\n",
      "        [ 0.0043,  0.0183,  0.0311,  ..., -0.0333,  0.0008, -0.0180],\n",
      "        [-0.0005,  0.0167, -0.0046,  ..., -0.0027, -0.0178,  0.0101],\n",
      "        [ 0.0144,  0.0147,  0.0011,  ..., -0.0201,  0.0132, -0.0234]])\n",
      "--------------------------------------------------------\n",
      "tensor([[ 0.0272,  0.0268,  0.0424,  ...,  0.0496, -0.0335,  0.0418],\n",
      "        [-0.0185,  0.0395,  0.0655,  ...,  0.0041, -0.0572,  0.0351],\n",
      "        [ 0.0451, -0.0574, -0.0203,  ...,  0.0666,  0.0532, -0.0497],\n",
      "        ...,\n",
      "        [ 0.0396,  0.0547, -0.0699,  ..., -0.0660, -0.0322, -0.0660],\n",
      "        [ 0.0471, -0.0702, -0.0122,  ...,  0.0045, -0.0342, -0.0678],\n",
      "        [-0.0532,  0.0539, -0.0242,  ..., -0.0507,  0.0023, -0.0294]])\n",
      "--------------------------------------------------------\n",
      "tensor([[ 0.0594, -0.0233, -0.0218,  ...,  0.0318, -0.0648,  0.0401],\n",
      "        [-0.0347,  0.0607, -0.0434,  ..., -0.0257,  0.0251, -0.0002],\n",
      "        [ 0.0284,  0.0202, -0.0565,  ..., -0.0597,  0.0611, -0.0175],\n",
      "        ...,\n",
      "        [ 0.0553, -0.0622, -0.0180,  ...,  0.0171, -0.0581, -0.0130],\n",
      "        [-0.0296,  0.0095, -0.0669,  ..., -0.0194,  0.0377,  0.0440],\n",
      "        [ 0.0171, -0.0606, -0.0569,  ..., -0.0231, -0.0682, -0.0355]])\n",
      "--------------------------------------------------------\n",
      "tensor([ 0.0291, -0.0343,  0.0173, -0.0279, -0.0219, -0.0323, -0.0226,  0.0090,\n",
      "        -0.0221, -0.0130, -0.0043, -0.0191, -0.0003, -0.0089,  0.0008, -0.0133,\n",
      "        -0.0351,  0.0345,  0.0158, -0.0038,  0.0315,  0.0189, -0.0118, -0.0321,\n",
      "         0.0098, -0.0010, -0.0287,  0.0302,  0.0254, -0.0261,  0.0092, -0.0166,\n",
      "         0.0241, -0.0342,  0.0055, -0.0098,  0.0044,  0.0069,  0.0036, -0.0156,\n",
      "        -0.0101, -0.0330, -0.0018, -0.0226,  0.0162, -0.0304,  0.0208, -0.0131,\n",
      "         0.0174,  0.0158, -0.0213, -0.0205, -0.0276, -0.0242, -0.0285, -0.0345,\n",
      "        -0.0137,  0.0342,  0.0298,  0.0184,  0.0230, -0.0335, -0.0054,  0.0111,\n",
      "         0.0142, -0.0217,  0.0348,  0.0198,  0.0031, -0.0188, -0.0010, -0.0310,\n",
      "        -0.0181, -0.0196, -0.0031, -0.0132,  0.0175, -0.0118,  0.0276,  0.0341,\n",
      "        -0.0155,  0.0338,  0.0017,  0.0247,  0.0061,  0.0068,  0.0008, -0.0050,\n",
      "         0.0155,  0.0335, -0.0143,  0.0151,  0.0338,  0.0292,  0.0173,  0.0267,\n",
      "        -0.0224, -0.0260,  0.0064,  0.0133,  0.0353,  0.0253,  0.0093, -0.0314,\n",
      "         0.0325, -0.0057,  0.0059, -0.0050,  0.0027, -0.0146, -0.0174, -0.0260,\n",
      "        -0.0318, -0.0309,  0.0166,  0.0142,  0.0065, -0.0355,  0.0145, -0.0123,\n",
      "         0.0210, -0.0122,  0.0012,  0.0139, -0.0334,  0.0203, -0.0080, -0.0280,\n",
      "         0.0344, -0.0299,  0.0217, -0.0264, -0.0120, -0.0165,  0.0255,  0.0213,\n",
      "         0.0140,  0.0302,  0.0150,  0.0298,  0.0055, -0.0057, -0.0146, -0.0060,\n",
      "         0.0256, -0.0191,  0.0271, -0.0326,  0.0057,  0.0121,  0.0104,  0.0331,\n",
      "        -0.0072,  0.0056, -0.0024, -0.0009, -0.0094,  0.0312,  0.0102, -0.0344,\n",
      "        -0.0012, -0.0035, -0.0321, -0.0141, -0.0051,  0.0237, -0.0296, -0.0117,\n",
      "         0.0060,  0.0343,  0.0206,  0.0004,  0.0032, -0.0076,  0.0023, -0.0222,\n",
      "         0.0224,  0.0177, -0.0167,  0.0079,  0.0124, -0.0336,  0.0121, -0.0137,\n",
      "        -0.0229,  0.0334, -0.0157, -0.0297, -0.0223,  0.0209, -0.0016, -0.0105,\n",
      "        -0.0313,  0.0254, -0.0143,  0.0265,  0.0238, -0.0164, -0.0355, -0.0339])\n",
      "--------------------------------------------------------\n",
      "tensor([-0.0614, -0.0103,  0.0192, -0.0352, -0.0606,  0.0600, -0.0275,  0.0084,\n",
      "        -0.0497, -0.0594,  0.0454,  0.0593,  0.0324, -0.0028, -0.0237,  0.0277,\n",
      "        -0.0179, -0.0420,  0.0170, -0.0498,  0.0440, -0.0014,  0.0279, -0.0051,\n",
      "         0.0641, -0.0145,  0.0350, -0.0122,  0.0636,  0.0500,  0.0676,  0.0503,\n",
      "         0.0576,  0.0081, -0.0369, -0.0448,  0.0021, -0.0510, -0.0311, -0.0663,\n",
      "         0.0377,  0.0008, -0.0636,  0.0615, -0.0100, -0.0512,  0.0161, -0.0285,\n",
      "         0.0268,  0.0339,  0.0621,  0.0026,  0.0306,  0.0322, -0.0241,  0.0611,\n",
      "        -0.0235,  0.0598,  0.0101,  0.0286, -0.0388,  0.0526,  0.0599,  0.0096,\n",
      "         0.0169,  0.0602, -0.0054, -0.0558, -0.0058, -0.0105, -0.0668, -0.0120,\n",
      "         0.0459,  0.0387,  0.0540,  0.0229, -0.0591, -0.0195,  0.0347,  0.0399,\n",
      "        -0.0426, -0.0440, -0.0204, -0.0635, -0.0447, -0.0572,  0.0489, -0.0004,\n",
      "        -0.0438, -0.0280,  0.0070, -0.0477, -0.0416,  0.0159, -0.0428, -0.0171,\n",
      "        -0.0373,  0.0177,  0.0154,  0.0446, -0.0598, -0.0592,  0.0651, -0.0021,\n",
      "         0.0576,  0.0467, -0.0188, -0.0707,  0.0352,  0.0554, -0.0253, -0.0251,\n",
      "         0.0679,  0.0648, -0.0658,  0.0468,  0.0055, -0.0178,  0.0663, -0.0106,\n",
      "        -0.0113, -0.0310,  0.0133,  0.0295, -0.0431, -0.0532,  0.0625, -0.0655,\n",
      "        -0.0031, -0.0117, -0.0488,  0.0200, -0.0325, -0.0074, -0.0689,  0.0388,\n",
      "         0.0507,  0.0383, -0.0419, -0.0233,  0.0345, -0.0476,  0.0488, -0.0377,\n",
      "        -0.0254, -0.0147, -0.0328, -0.0425, -0.0692,  0.0297, -0.0549, -0.0705,\n",
      "        -0.0051, -0.0540, -0.0372,  0.0665, -0.0670, -0.0612,  0.0277,  0.0690,\n",
      "         0.0315, -0.0509,  0.0535, -0.0313, -0.0327,  0.0284, -0.0376, -0.0608,\n",
      "        -0.0228,  0.0268,  0.0439,  0.0687,  0.0276,  0.0182,  0.0227,  0.0585,\n",
      "        -0.0426,  0.0143,  0.0002, -0.0629, -0.0660,  0.0016,  0.0058,  0.0208,\n",
      "         0.0544,  0.0217, -0.0380,  0.0156, -0.0637,  0.0106,  0.0586, -0.0267,\n",
      "        -0.0036,  0.0107, -0.0038,  0.0188,  0.0008, -0.0393,  0.0128,  0.0288])\n",
      "--------------------------------------------------------\n",
      "tensor([-0.0067,  0.0047,  0.0228, -0.0507,  0.0414,  0.0261,  0.0384,  0.0604,\n",
      "        -0.0527, -0.0108])\n"
     ]
    }
   ],
   "source": [
    "# The following data should send from SERVER to each node\n",
    "# So we should save them on a file\n",
    "\n",
    "send_main_model_to_nodes_and_update_model_dict(main_model,1) # if 1, then print weight and bias\n"
   ]
  },
  {
   "cell_type": "code",
   "execution_count": 20,
   "id": "03cf0cb0",
   "metadata": {},
   "outputs": [
    {
     "name": "stdout",
     "output_type": "stream",
     "text": [
      "tensor([[ 0.0272,  0.0268,  0.0424,  0.0356, -0.0131]],\n",
      "       grad_fn=<SliceBackward0>)\n"
     ]
    }
   ],
   "source": [
    "print(main_model.fc2.weight[0:1,0:5])\n",
    "\n"
   ]
  },
  {
   "cell_type": "code",
   "execution_count": 21,
   "id": "92a8eb09",
   "metadata": {},
   "outputs": [],
   "source": [
    "model_dict = dict()\n",
    "for i in range(number_of_samples):\n",
    "    model_name=\"model\"+str(i)\n",
    "    model_info=Net2nn()\n",
    "    model_dict.update({model_name : model_info })\n",
    "\n",
    "name_of_models=list(model_dict.keys())\n"
   ]
  },
  {
   "cell_type": "code",
   "execution_count": 24,
   "id": "f02ef013",
   "metadata": {},
   "outputs": [
    {
     "name": "stdout",
     "output_type": "stream",
     "text": [
      "tensor([ 0.0358, -0.0115,  0.0493,  0.0689,  0.0150], grad_fn=<SliceBackward0>)\n",
      "tensor([ 0.0370, -0.0062,  0.0518,  0.0997,  0.0183], grad_fn=<SliceBackward0>)\n",
      "--------------------------------------------------\n",
      "tensor([[ 0.0402, -0.0103,  0.0502,  0.0903,  0.0131]],\n",
      "       grad_fn=<SliceBackward0>)\n",
      "--------------------------------------------------\n",
      "Iteration 4 : main_model accuracy on all test data:  0.9759\n",
      "--------------------------------------------------\n"
     ]
    }
   ],
   "source": [
    "\n",
    "# After the first time run, we should run the following code\n",
    "\n",
    "\n",
    "# This function downloads all of the local models\n",
    "# We should first run the client code. Then here.\n",
    "model_dict = download_local_model_from_each_node(number_of_samples)\n",
    "print(model_dict[\"model1\"].fc2.weight[0,0:5])\n",
    "print(model_dict[\"model0\"].fc2.weight[0,0:5])\n",
    "print(\"--------------------------------------------------\")\n",
    "\n",
    "\n",
    "\n",
    "main_model = set_averaged_weights_as_main_model_weights_and_update_main_model(main_model,model_dict, number_of_samples) \n",
    "\n",
    "print(main_model.fc2.weight[0:1,0:5])\n",
    "print(\"--------------------------------------------------\")\n",
    "\n",
    "\n",
    "\n",
    "train_ds = TensorDataset(x_train, y_train)\n",
    "train_dl = DataLoader(train_ds, batch_size=batch_size, shuffle=True)\n",
    "\n",
    "valid_ds = TensorDataset(x_valid, y_valid)\n",
    "valid_dl = DataLoader(valid_ds, batch_size=batch_size * 2)\n",
    "\n",
    "test_ds = TensorDataset(x_test, y_test)\n",
    "test_dl = DataLoader(test_ds, batch_size=batch_size * 2)\n",
    "\n",
    "\n",
    "test_loss, test_accuracy = validation(main_model, test_dl, main_criterion)\n",
    "\n",
    "\n",
    "\n",
    "test_loss, test_accuracy = validation(main_model, test_dl, main_criterion)\n",
    "print(\"Iteration\", str(i+2), \": main_model accuracy on all test data: {:7.4f}\".format(test_accuracy))\n",
    "print(\"--------------------------------------------------\")\n",
    "\n",
    "\n",
    "send_main_model_to_nodes_and_update_model_dict(main_model,0) # if 1, then print weight and bias\n",
    "\n",
    "\n"
   ]
  },
  {
   "cell_type": "code",
   "execution_count": null,
   "id": "77164354",
   "metadata": {},
   "outputs": [],
   "source": []
  },
  {
   "cell_type": "code",
   "execution_count": null,
   "id": "69d5a4f8",
   "metadata": {},
   "outputs": [],
   "source": []
  }
 ],
 "metadata": {
  "kernelspec": {
   "display_name": "Python 3.9.6 64-bit",
   "language": "python",
   "name": "python3"
  },
  "language_info": {
   "codemirror_mode": {
    "name": "ipython",
    "version": 3
   },
   "file_extension": ".py",
   "mimetype": "text/x-python",
   "name": "python",
   "nbconvert_exporter": "python",
   "pygments_lexer": "ipython3",
   "version": "3.9.6"
  },
  "vscode": {
   "interpreter": {
    "hash": "31f2aee4e71d21fbe5cf8b01ff0e069b9275f58929596ceb00d14d90e3e16cd6"
   }
  }
 },
 "nbformat": 4,
 "nbformat_minor": 5
}
