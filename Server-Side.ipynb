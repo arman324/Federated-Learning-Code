{
 "cells": [
  {
   "cell_type": "code",
   "execution_count": 46,
   "id": "d3e12bcf",
   "metadata": {},
   "outputs": [],
   "source": [
    "import numpy as np\n",
    "import pandas as pd\n",
    "from sklearn import tree\n",
    "from sklearn.metrics import accuracy_score\n",
    "from sklearn.ensemble import RandomForestClassifier\n",
    "import random\n",
    "import math\n",
    "from torch.utils.tensorboard import SummaryWriter\n",
    "from matplotlib import pyplot\n",
    "\n",
    "\n",
    "from pathlib import Path\n",
    "import requests\n",
    "import pickle\n",
    "import gzip\n",
    "\n",
    "import torch\n",
    "import math\n",
    "import torch.nn.functional as F\n",
    "from torch import nn\n",
    "from torch import optim\n",
    "import torchvision\n",
    "import torchvision.transforms as transforms\n",
    "from torch.utils.data import TensorDataset\n",
    "from torch.utils.data import DataLoader\n",
    "\n",
    "pd.options.display.float_format = \"{:,.4f}\".format"
   ]
  },
  {
   "cell_type": "code",
   "execution_count": 47,
   "id": "4e861d22",
   "metadata": {},
   "outputs": [],
   "source": [
    "FILENAME = \"mnist.pkl.gz\"\n",
    "DATA_PATH = Path(\"/Users/arman\")\n",
    "PATH = DATA_PATH / \"Downloads\"\n",
    "with gzip.open((PATH / FILENAME).as_posix(), \"rb\") as f:\n",
    "        ((x_train, y_train), (x_valid, y_valid), (x_test, y_test)) = pickle.load(f, encoding=\"latin-1\")"
   ]
  },
  {
   "cell_type": "code",
   "execution_count": 48,
   "id": "a5fad2af",
   "metadata": {},
   "outputs": [],
   "source": [
    "#Classification Model"
   ]
  },
  {
   "cell_type": "code",
   "execution_count": 49,
   "id": "09532479",
   "metadata": {},
   "outputs": [],
   "source": [
    "class Net2nn(nn.Module):\n",
    "    def __init__(self):\n",
    "        super(Net2nn, self).__init__()\n",
    "        self.fc1=nn.Linear(784,200)\n",
    "        self.fc2=nn.Linear(200,200)\n",
    "        self.fc3=nn.Linear(200,10)\n",
    "        \n",
    "    def forward(self,x):\n",
    "        x=F.relu(self.fc1(x))\n",
    "        x=F.relu(self.fc2(x))\n",
    "        x=self.fc3(x)\n",
    "        return x"
   ]
  },
  {
   "cell_type": "code",
   "execution_count": 50,
   "id": "28a11a45",
   "metadata": {},
   "outputs": [],
   "source": [
    "class WrappedDataLoader:\n",
    "    def __init__(self, dl, func):\n",
    "        self.dl = dl\n",
    "        self.func = func\n",
    "\n",
    "    def __len__(self):\n",
    "        return len(self.dl)\n",
    "\n",
    "    def __iter__(self):\n",
    "        batches = iter(self.dl)\n",
    "        for b in batches:\n",
    "            yield (self.func(*b))"
   ]
  },
  {
   "cell_type": "code",
   "execution_count": 51,
   "id": "8c688a1f",
   "metadata": {},
   "outputs": [],
   "source": [
    "def train(model, train_loader, criterion, optimizer):\n",
    "    model.train()\n",
    "    train_loss = 0.0\n",
    "    correct = 0\n",
    "\n",
    "    for data, target in train_loader:\n",
    "        output = model(data)\n",
    "        loss = criterion(output, target)\n",
    "        optimizer.zero_grad()\n",
    "        loss.backward()\n",
    "        optimizer.step()\n",
    "        \n",
    "        train_loss += loss.item()\n",
    "        prediction = output.argmax(dim=1, keepdim=True)\n",
    "        correct += prediction.eq(target.view_as(prediction)).sum().item()\n",
    "        \n",
    "\n",
    "    return train_loss / len(train_loader), correct/len(train_loader.dataset)"
   ]
  },
  {
   "cell_type": "code",
   "execution_count": 52,
   "id": "965fa7a7",
   "metadata": {},
   "outputs": [],
   "source": [
    "def validation(model, test_loader, criterion):\n",
    "    model.eval()\n",
    "    test_loss = 0.0\n",
    "    correct = 0\n",
    "    with torch.no_grad():\n",
    "        for data, target in test_loader:\n",
    "            output = model(data)\n",
    "            \n",
    "            test_loss += criterion(output, target).item()\n",
    "            prediction = output.argmax(dim=1, keepdim=True)\n",
    "            correct += prediction.eq(target.view_as(prediction)).sum().item()\n",
    "\n",
    "    test_loss /= len(test_loader)\n",
    "    correct /= len(test_loader.dataset)\n",
    "\n",
    "    return (test_loss, correct)"
   ]
  },
  {
   "cell_type": "code",
   "execution_count": 53,
   "id": "d40eb32d",
   "metadata": {},
   "outputs": [],
   "source": [
    "# This function compares the accuracy of the main model \n",
    "# and the local model running on each node.\n",
    "def compare_local_and_merged_model_performance(number_of_samples):\n",
    "    accuracy_table=pd.DataFrame(data=np.zeros((number_of_samples,3)), columns=[\"sample\", \"local_ind_model\", \"merged_main_model\"])\n",
    "    for i in range (number_of_samples):\n",
    "    \n",
    "        test_ds = TensorDataset(x_test_dict[name_of_x_test_sets[i]], y_test_dict[name_of_y_test_sets[i]])\n",
    "        test_dl = DataLoader(test_ds, batch_size=batch_size * 2)\n",
    "    \n",
    "        model=model_dict[name_of_models[i]]\n",
    "        criterion=criterion_dict[name_of_criterions[i]]\n",
    "        optimizer=optimizer_dict[name_of_optimizers[i]]\n",
    "    \n",
    "        individual_loss, individual_accuracy = validation(model, test_dl, criterion)\n",
    "        main_loss, main_accuracy =validation(main_model, test_dl, main_criterion )\n",
    "    \n",
    "        accuracy_table.loc[i, \"sample\"]=\"sample \"+str(i)\n",
    "        accuracy_table.loc[i, \"local_ind_model\"] = individual_accuracy\n",
    "        accuracy_table.loc[i, \"merged_main_model\"] = main_accuracy\n",
    "\n",
    "    return accuracy_table"
   ]
  },
  {
   "cell_type": "code",
   "execution_count": 54,
   "id": "5860d752",
   "metadata": {},
   "outputs": [],
   "source": [
    "#Functions for Federated Averaging "
   ]
  },
  {
   "cell_type": "code",
   "execution_count": 55,
   "id": "2f3e1f33",
   "metadata": {},
   "outputs": [],
   "source": [
    "#Optimizers are algorithms or methods used to minimize an\n",
    "# error function(loss function)or to maximize the efficiency of production. \n",
    "\n",
    "# This function creates a model, optimizer and loss function for each node.\n",
    "def create_model_optimizer_criterion_dict(number_of_samples):\n",
    "    model_dict = dict()\n",
    "    optimizer_dict= dict()\n",
    "    criterion_dict = dict()\n",
    "    \n",
    "    for i in range(number_of_samples):\n",
    "        model_name=\"model\"+str(i)\n",
    "        model_info=Net2nn()\n",
    "        model_dict.update({model_name : model_info })\n",
    "        \n",
    "        optimizer_name=\"optimizer\"+str(i)\n",
    "        optimizer_info = torch.optim.SGD(model_info.parameters(), lr=learning_rate, momentum=momentum)\n",
    "        optimizer_dict.update({optimizer_name : optimizer_info })\n",
    "        \n",
    "        criterion_name = \"criterion\"+str(i)\n",
    "        criterion_info = nn.CrossEntropyLoss()\n",
    "        criterion_dict.update({criterion_name : criterion_info})\n",
    "        \n",
    "        \n",
    "    return model_dict, optimizer_dict, criterion_dict"
   ]
  },
  {
   "cell_type": "code",
   "execution_count": 56,
   "id": "3df753ab",
   "metadata": {},
   "outputs": [],
   "source": [
    "# This function takes the average of the weights in individual nodes.\n",
    "\n",
    "def get_averaged_weights(model_dict, number_of_samples):\n",
    "   \n",
    "    fc1_mean_weight = torch.zeros(size=model_dict[name_of_models[0]].fc1.weight.shape)\n",
    "    fc1_mean_bias = torch.zeros(size=model_dict[name_of_models[0]].fc1.bias.shape)\n",
    "    \n",
    "    fc2_mean_weight = torch.zeros(size=model_dict[name_of_models[0]].fc2.weight.shape)\n",
    "    fc2_mean_bias = torch.zeros(size=model_dict[name_of_models[0]].fc2.bias.shape)\n",
    "    \n",
    "    fc3_mean_weight = torch.zeros(size=model_dict[name_of_models[0]].fc3.weight.shape)\n",
    "    fc3_mean_bias = torch.zeros(size=model_dict[name_of_models[0]].fc3.bias.shape)\n",
    "    \n",
    "    with torch.no_grad():\n",
    "    \n",
    "    \n",
    "        for i in range(number_of_samples):\n",
    "            fc1_mean_weight += model_dict[name_of_models[i]].fc1.weight.data.clone()\n",
    "            fc1_mean_bias += model_dict[name_of_models[i]].fc1.bias.data.clone()\n",
    "        \n",
    "            fc2_mean_weight += model_dict[name_of_models[i]].fc2.weight.data.clone()\n",
    "            fc2_mean_bias += model_dict[name_of_models[i]].fc2.bias.data.clone()\n",
    "        \n",
    "            fc3_mean_weight += model_dict[name_of_models[i]].fc3.weight.data.clone()\n",
    "            fc3_mean_bias += model_dict[name_of_models[i]].fc3.bias.data.clone()\n",
    "\n",
    "        \n",
    "        fc1_mean_weight =fc1_mean_weight/number_of_samples\n",
    "        fc1_mean_bias = fc1_mean_bias/ number_of_samples\n",
    "    \n",
    "        fc2_mean_weight =fc2_mean_weight/number_of_samples\n",
    "        fc2_mean_bias = fc2_mean_bias/ number_of_samples\n",
    "    \n",
    "        fc3_mean_weight =fc3_mean_weight/number_of_samples\n",
    "        fc3_mean_bias = fc3_mean_bias/ number_of_samples\n",
    "    \n",
    "    return fc1_mean_weight, fc1_mean_bias, fc2_mean_weight, fc2_mean_bias, fc3_mean_weight, fc3_mean_bias"
   ]
  },
  {
   "cell_type": "code",
   "execution_count": 57,
   "id": "2c9bb6af",
   "metadata": {},
   "outputs": [],
   "source": [
    "# This function sends the averaged weights of individual nodes \n",
    "# to the main model and sets them as the new weights of the main model. ( calls def get_averaged_weights(model_dict, number_of_samples))\n",
    "\n",
    "def set_averaged_weights_as_main_model_weights_and_update_main_model(main_model,model_dict, number_of_samples):\n",
    "    fc1_mean_weight, fc1_mean_bias, fc2_mean_weight, fc2_mean_bias, fc3_mean_weight, fc3_mean_bias = get_averaged_weights(model_dict, number_of_samples=number_of_samples)\n",
    "    with torch.no_grad():\n",
    "        main_model.fc1.weight.data = fc1_mean_weight.data.clone()\n",
    "        main_model.fc2.weight.data = fc2_mean_weight.data.clone()\n",
    "        main_model.fc3.weight.data = fc3_mean_weight.data.clone()\n",
    "\n",
    "        main_model.fc1.bias.data = fc1_mean_bias.data.clone()\n",
    "        main_model.fc2.bias.data = fc2_mean_bias.data.clone()\n",
    "        main_model.fc3.bias.data = fc3_mean_bias.data.clone() \n",
    "    return main_model"
   ]
  },
  {
   "cell_type": "code",
   "execution_count": 58,
   "id": "4401ddf4",
   "metadata": {},
   "outputs": [],
   "source": [
    "# This function sends the parameters of the main model to the nodes.\n",
    "# The following data should send from SERVER to each node\n",
    "# So we should save them on a file\n",
    "\n",
    "def send_main_model_to_nodes_and_update_model_dict(main_model,want_print):\n",
    "    with torch.no_grad():\n",
    "            torch.save(main_model.fc1.weight.data.clone(), '/Users/arman/Downloads/Security-project/Main_Model_Parameters/main_model_fc1_weight_data.pt')\n",
    "            torch.save(main_model.fc2.weight.data.clone(), '/Users/arman/Downloads/Security-project/Main_Model_Parameters/main_model_fc2_weight_data.pt')\n",
    "            torch.save(main_model.fc3.weight.data.clone(), '/Users/arman/Downloads/Security-project/Main_Model_Parameters/main_model_fc3_weight_data.pt')\n",
    "            \n",
    "            torch.save(main_model.fc1.bias.data.clone(), '/Users/arman/Downloads/Security-project/Main_Model_Parameters/main_model_fc1_bias_data.pt')\n",
    "            torch.save(main_model.fc2.bias.data.clone(), '/Users/arman/Downloads/Security-project/Main_Model_Parameters/main_model_fc2_bias_data.pt')\n",
    "            torch.save(main_model.fc3.bias.data.clone(), '/Users/arman/Downloads/Security-project/Main_Model_Parameters/main_model_fc3_bias_data.pt')\n",
    "\n",
    "            if (want_print == 1):\n",
    "                print(main_model.fc1.weight.data.clone())\n",
    "                print(\"--------------------------------------------------------\")\n",
    "                print(main_model.fc2.weight.data.clone())\n",
    "                print(\"--------------------------------------------------------\")\n",
    "                print(main_model.fc3.weight.data.clone())\n",
    "                print(\"--------------------------------------------------------\")\n",
    "\n",
    "                print(main_model.fc1.bias.data.clone())\n",
    "                print(\"--------------------------------------------------------\")\n",
    "                print(main_model.fc2.bias.data.clone())\n",
    "                print(\"--------------------------------------------------------\")\n",
    "                print(main_model.fc3.bias.data.clone()) \n",
    "\n"
   ]
  },
  {
   "cell_type": "code",
   "execution_count": 59,
   "id": "2d811fb4",
   "metadata": {},
   "outputs": [],
   "source": [
    "# This function downloads all of the local models\n",
    "\n",
    "def download_local_model_from_each_node(number_of_samples):\n",
    "    with torch.no_grad():\n",
    "        for i in range(number_of_samples):\n",
    "            model_dict[name_of_models[i]].fc1.weight.data = torch.load('/Users/arman/Downloads/Security-project/Local_Model_Parameters/local_model_'+str(i)+'_fc1_weight_data.pt')\n",
    "            model_dict[name_of_models[i]].fc2.weight.data = torch.load('/Users/arman/Downloads/Security-project/Local_Model_Parameters/local_model_'+str(i)+'_fc2_weight_data.pt')\n",
    "            model_dict[name_of_models[i]].fc3.weight.data = torch.load('/Users/arman/Downloads/Security-project/Local_Model_Parameters/local_model_'+str(i)+'_fc3_weight_data.pt')\n",
    "            \n",
    "            model_dict[name_of_models[i]].fc1.bias.data = torch.load('/Users/arman/Downloads/Security-project/Local_Model_Parameters/local_model_'+str(i)+'_fc1_bias_data.pt')\n",
    "            model_dict[name_of_models[i]].fc2.bias.data = torch.load('/Users/arman/Downloads/Security-project/Local_Model_Parameters/local_model_'+str(i)+'_fc2_bias_data.pt')\n",
    "            model_dict[name_of_models[i]].fc3.bias.data = torch.load('/Users/arman/Downloads/Security-project/Local_Model_Parameters/local_model_'+str(i)+'_fc3_bias_data.pt')\n",
    "    \n",
    "    return model_dict"
   ]
  },
  {
   "cell_type": "code",
   "execution_count": 60,
   "id": "19c19ada",
   "metadata": {},
   "outputs": [],
   "source": [
    "x_train, y_train, x_valid, y_valid,x_test, y_test = map(torch.tensor, (x_train, y_train, x_valid, y_valid, x_test, y_test))\n",
    "number_of_samples = 3\n",
    "learning_rate = 0.01\n",
    "numEpoch = 10\n",
    "batch_size = 32\n",
    "momentum = 0.9\n",
    "\n",
    "train_amount = 4500\n",
    "valid_amount = 900\n",
    "test_amount = 900\n",
    "print_amount = 3"
   ]
  },
  {
   "cell_type": "code",
   "execution_count": 61,
   "id": "9a88616f",
   "metadata": {},
   "outputs": [],
   "source": [
    "# Main model is created\n"
   ]
  },
  {
   "cell_type": "code",
   "execution_count": 62,
   "id": "d9c7e9b8",
   "metadata": {},
   "outputs": [],
   "source": [
    "main_model = Net2nn()\n",
    "main_optimizer = torch.optim.SGD(main_model.parameters(), lr=learning_rate, momentum=0.9)\n",
    "main_criterion = nn.CrossEntropyLoss()"
   ]
  },
  {
   "cell_type": "code",
   "execution_count": 63,
   "id": "7848ba76",
   "metadata": {},
   "outputs": [
    {
     "name": "stdout",
     "output_type": "stream",
     "text": [
      "tensor([[ 0.0630,  0.0016, -0.0621,  0.0142,  0.0037]],\n",
      "       grad_fn=<SliceBackward0>)\n"
     ]
    }
   ],
   "source": [
    "print(main_model.fc2.weight[0:1,0:5])\n",
    "\n"
   ]
  },
  {
   "cell_type": "code",
   "execution_count": 64,
   "id": "b086a061",
   "metadata": {},
   "outputs": [
    {
     "name": "stdout",
     "output_type": "stream",
     "text": [
      "tensor([[-0.0333,  0.0047,  0.0323,  ...,  0.0350, -0.0311,  0.0340],\n",
      "        [-0.0056, -0.0225,  0.0161,  ..., -0.0231, -0.0351,  0.0302],\n",
      "        [-0.0238,  0.0057,  0.0228,  ...,  0.0274, -0.0056,  0.0074],\n",
      "        ...,\n",
      "        [-0.0134, -0.0037, -0.0340,  ..., -0.0118, -0.0305, -0.0296],\n",
      "        [ 0.0282,  0.0043, -0.0067,  ...,  0.0259, -0.0157,  0.0014],\n",
      "        [ 0.0088, -0.0201,  0.0050,  ...,  0.0269, -0.0067,  0.0154]])\n",
      "--------------------------------------------------------\n",
      "tensor([[ 0.0630,  0.0016, -0.0621,  ...,  0.0556,  0.0075,  0.0686],\n",
      "        [ 0.0342,  0.0128,  0.0339,  ...,  0.0117, -0.0200, -0.0275],\n",
      "        [-0.0056,  0.0551, -0.0672,  ..., -0.0593,  0.0421,  0.0384],\n",
      "        ...,\n",
      "        [ 0.0096,  0.0040,  0.0166,  ...,  0.0471,  0.0570,  0.0321],\n",
      "        [-0.0137, -0.0686, -0.0005,  ...,  0.0022,  0.0622, -0.0296],\n",
      "        [-0.0191, -0.0476,  0.0380,  ...,  0.0519, -0.0476,  0.0076]])\n",
      "--------------------------------------------------------\n",
      "tensor([[-0.0097,  0.0234,  0.0505,  ..., -0.0198,  0.0456, -0.0686],\n",
      "        [-0.0134,  0.0356, -0.0652,  ..., -0.0541,  0.0675,  0.0344],\n",
      "        [ 0.0049,  0.0510, -0.0616,  ..., -0.0121, -0.0517,  0.0634],\n",
      "        ...,\n",
      "        [ 0.0672,  0.0056,  0.0570,  ...,  0.0030, -0.0631,  0.0176],\n",
      "        [-0.0317, -0.0072, -0.0371,  ..., -0.0163,  0.0626,  0.0537],\n",
      "        [-0.0493, -0.0026, -0.0117,  ...,  0.0353, -0.0624, -0.0373]])\n",
      "--------------------------------------------------------\n",
      "tensor([ 0.0162, -0.0256,  0.0355,  0.0300,  0.0003, -0.0137,  0.0020,  0.0148,\n",
      "         0.0275,  0.0262,  0.0191, -0.0254, -0.0252,  0.0104,  0.0199, -0.0054,\n",
      "        -0.0312,  0.0220,  0.0077,  0.0014, -0.0061, -0.0002,  0.0103,  0.0034,\n",
      "        -0.0204, -0.0225, -0.0072, -0.0045,  0.0289, -0.0147, -0.0178, -0.0306,\n",
      "        -0.0210, -0.0083, -0.0169,  0.0119,  0.0027, -0.0081, -0.0321,  0.0348,\n",
      "         0.0121,  0.0261,  0.0035, -0.0206,  0.0272,  0.0332,  0.0088, -0.0125,\n",
      "        -0.0309,  0.0344,  0.0118, -0.0341,  0.0265, -0.0186,  0.0252, -0.0268,\n",
      "        -0.0318, -0.0348,  0.0230,  0.0143, -0.0029,  0.0174, -0.0333, -0.0347,\n",
      "         0.0161,  0.0152,  0.0129, -0.0095,  0.0043,  0.0168,  0.0062,  0.0158,\n",
      "        -0.0165,  0.0260,  0.0209, -0.0321, -0.0174,  0.0104, -0.0103, -0.0126,\n",
      "        -0.0128,  0.0102,  0.0240, -0.0125,  0.0016,  0.0009,  0.0167,  0.0018,\n",
      "        -0.0285,  0.0197,  0.0267, -0.0089,  0.0118,  0.0318,  0.0231, -0.0151,\n",
      "         0.0027,  0.0256, -0.0118,  0.0257,  0.0270, -0.0230,  0.0008,  0.0286,\n",
      "        -0.0130,  0.0179,  0.0184,  0.0023,  0.0233,  0.0011,  0.0300,  0.0147,\n",
      "         0.0182,  0.0267, -0.0098,  0.0216, -0.0335, -0.0298,  0.0141,  0.0147,\n",
      "         0.0119,  0.0076,  0.0187, -0.0161,  0.0035,  0.0241, -0.0122,  0.0092,\n",
      "        -0.0165, -0.0341,  0.0284,  0.0114,  0.0168, -0.0185,  0.0276,  0.0186,\n",
      "        -0.0012,  0.0026,  0.0099,  0.0316,  0.0196,  0.0347, -0.0246, -0.0111,\n",
      "        -0.0289, -0.0171,  0.0076, -0.0119, -0.0249, -0.0103, -0.0048,  0.0247,\n",
      "        -0.0194,  0.0268, -0.0103, -0.0253, -0.0022,  0.0218, -0.0117, -0.0304,\n",
      "        -0.0171,  0.0314, -0.0053, -0.0214, -0.0346, -0.0232, -0.0266, -0.0008,\n",
      "        -0.0115,  0.0107, -0.0231,  0.0198,  0.0163, -0.0072,  0.0190, -0.0060,\n",
      "        -0.0099, -0.0294, -0.0005,  0.0005, -0.0326, -0.0152,  0.0291,  0.0268,\n",
      "         0.0127, -0.0257, -0.0013, -0.0244, -0.0331,  0.0060, -0.0025,  0.0203,\n",
      "         0.0194,  0.0300,  0.0140, -0.0349,  0.0114,  0.0249, -0.0065,  0.0158])\n",
      "--------------------------------------------------------\n",
      "tensor([ 0.0425,  0.0698, -0.0549, -0.0447,  0.0223, -0.0324,  0.0094,  0.0673,\n",
      "        -0.0570,  0.0184,  0.0163, -0.0549,  0.0206,  0.0107, -0.0066, -0.0063,\n",
      "        -0.0339,  0.0461, -0.0572,  0.0154, -0.0574, -0.0384,  0.0091,  0.0463,\n",
      "        -0.0653,  0.0692,  0.0690,  0.0007, -0.0083, -0.0671,  0.0321, -0.0553,\n",
      "         0.0305, -0.0101,  0.0659,  0.0349, -0.0504, -0.0522, -0.0094,  0.0513,\n",
      "         0.0586,  0.0431, -0.0097, -0.0456,  0.0436, -0.0134, -0.0389,  0.0622,\n",
      "         0.0086,  0.0635,  0.0367,  0.0381,  0.0376, -0.0386,  0.0484, -0.0213,\n",
      "        -0.0653,  0.0344,  0.0526,  0.0268,  0.0231, -0.0138,  0.0334, -0.0134,\n",
      "        -0.0149, -0.0272,  0.0234, -0.0437, -0.0234,  0.0367, -0.0146,  0.0076,\n",
      "        -0.0004,  0.0424, -0.0455, -0.0337,  0.0118,  0.0090,  0.0671,  0.0122,\n",
      "        -0.0263, -0.0073,  0.0432,  0.0639, -0.0031, -0.0651,  0.0498,  0.0576,\n",
      "        -0.0699, -0.0661,  0.0572,  0.0219,  0.0059, -0.0160, -0.0416,  0.0669,\n",
      "         0.0527,  0.0386,  0.0431, -0.0213,  0.0183,  0.0105, -0.0180,  0.0360,\n",
      "        -0.0003,  0.0030, -0.0097, -0.0554, -0.0619, -0.0186,  0.0480,  0.0341,\n",
      "         0.0129,  0.0337,  0.0373, -0.0704, -0.0336, -0.0415,  0.0271, -0.0333,\n",
      "         0.0431,  0.0538, -0.0575, -0.0142,  0.0063, -0.0142, -0.0374, -0.0270,\n",
      "         0.0049, -0.0150, -0.0206,  0.0375,  0.0388, -0.0437,  0.0521,  0.0621,\n",
      "        -0.0667, -0.0163, -0.0298,  0.0370,  0.0565, -0.0294, -0.0524,  0.0700,\n",
      "         0.0157,  0.0032, -0.0536, -0.0676,  0.0090,  0.0277,  0.0037, -0.0443,\n",
      "        -0.0279, -0.0559, -0.0010, -0.0418,  0.0223, -0.0074,  0.0498, -0.0225,\n",
      "        -0.0529,  0.0228, -0.0199,  0.0302,  0.0421,  0.0654,  0.0683, -0.0259,\n",
      "        -0.0646, -0.0061, -0.0011,  0.0673,  0.0334, -0.0184,  0.0011,  0.0162,\n",
      "        -0.0679,  0.0208,  0.0523,  0.0369,  0.0280,  0.0008, -0.0455,  0.0471,\n",
      "        -0.0091,  0.0610, -0.0356,  0.0534,  0.0086,  0.0690,  0.0593, -0.0298,\n",
      "        -0.0451,  0.0155,  0.0141,  0.0580,  0.0266, -0.0631, -0.0459,  0.0304])\n",
      "--------------------------------------------------------\n",
      "tensor([ 0.0294, -0.0171,  0.0688, -0.0205, -0.0542, -0.0686,  0.0638, -0.0472,\n",
      "        -0.0202,  0.0310])\n"
     ]
    }
   ],
   "source": [
    "# The following data should send from SERVER to each node\n",
    "# So we should save them on a file\n",
    "\n",
    "send_main_model_to_nodes_and_update_model_dict(main_model,1) # if 1, then print weight and bias\n"
   ]
  },
  {
   "cell_type": "code",
   "execution_count": 65,
   "id": "03cf0cb0",
   "metadata": {},
   "outputs": [
    {
     "name": "stdout",
     "output_type": "stream",
     "text": [
      "tensor([[ 0.0630,  0.0016, -0.0621,  0.0142,  0.0037]],\n",
      "       grad_fn=<SliceBackward0>)\n"
     ]
    }
   ],
   "source": [
    "print(main_model.fc2.weight[0:1,0:5])\n",
    "\n"
   ]
  },
  {
   "cell_type": "code",
   "execution_count": 66,
   "id": "92a8eb09",
   "metadata": {},
   "outputs": [],
   "source": [
    "model_dict = dict()\n",
    "for i in range(number_of_samples):\n",
    "    model_name=\"model\"+str(i)\n",
    "    model_info=Net2nn()\n",
    "    model_dict.update({model_name : model_info })\n",
    "\n",
    "name_of_models=list(model_dict.keys())\n"
   ]
  },
  {
   "cell_type": "code",
   "execution_count": 72,
   "id": "f02ef013",
   "metadata": {},
   "outputs": [
    {
     "name": "stdout",
     "output_type": "stream",
     "text": [
      "tensor([ 0.1141, -0.1184, -0.0477,  0.0540, -0.0336], grad_fn=<SliceBackward0>)\n",
      "tensor([ 0.1188, -0.1231, -0.0392,  0.0608, -0.0465], grad_fn=<SliceBackward0>)\n",
      "--------------------------------------------------\n",
      "tensor([[ 0.1152, -0.1199, -0.0452,  0.0578, -0.0391]],\n",
      "       grad_fn=<SliceBackward0>)\n",
      "--------------------------------------------------\n",
      "Iteration 4 : main_model accuracy on all test data:  0.9803\n",
      "--------------------------------------------------\n"
     ]
    }
   ],
   "source": [
    "\n",
    "# After the first time run, we should run the following code\n",
    "\n",
    "\n",
    "# This function downloads all of the local models\n",
    "# We should first run the client code. Then here.\n",
    "model_dict = download_local_model_from_each_node(number_of_samples)\n",
    "print(model_dict[\"model1\"].fc2.weight[0,0:5])\n",
    "print(model_dict[\"model0\"].fc2.weight[0,0:5])\n",
    "print(\"--------------------------------------------------\")\n",
    "\n",
    "\n",
    "\n",
    "main_model = set_averaged_weights_as_main_model_weights_and_update_main_model(main_model,model_dict, number_of_samples) \n",
    "\n",
    "print(main_model.fc2.weight[0:1,0:5])\n",
    "print(\"--------------------------------------------------\")\n",
    "\n",
    "\n",
    "\n",
    "train_ds = TensorDataset(x_train, y_train)\n",
    "train_dl = DataLoader(train_ds, batch_size=batch_size, shuffle=True)\n",
    "\n",
    "valid_ds = TensorDataset(x_valid, y_valid)\n",
    "valid_dl = DataLoader(valid_ds, batch_size=batch_size * 2)\n",
    "\n",
    "test_ds = TensorDataset(x_test, y_test)\n",
    "test_dl = DataLoader(test_ds, batch_size=batch_size * 2)\n",
    "\n",
    "\n",
    "test_loss, test_accuracy = validation(main_model, test_dl, main_criterion)\n",
    "\n",
    "\n",
    "\n",
    "test_loss, test_accuracy = validation(main_model, test_dl, main_criterion)\n",
    "print(\"Iteration\", str(i+2), \": main_model accuracy on all test data: {:7.4f}\".format(test_accuracy))\n",
    "print(\"--------------------------------------------------\")\n",
    "\n",
    "\n",
    "send_main_model_to_nodes_and_update_model_dict(main_model,0) # if 1, then print weight and bias\n",
    "\n",
    "\n"
   ]
  },
  {
   "cell_type": "code",
   "execution_count": null,
   "id": "77164354",
   "metadata": {},
   "outputs": [],
   "source": []
  },
  {
   "cell_type": "code",
   "execution_count": null,
   "id": "69d5a4f8",
   "metadata": {},
   "outputs": [],
   "source": []
  }
 ],
 "metadata": {
  "kernelspec": {
   "display_name": "Python 3.9.6 64-bit",
   "language": "python",
   "name": "python3"
  },
  "language_info": {
   "codemirror_mode": {
    "name": "ipython",
    "version": 3
   },
   "file_extension": ".py",
   "mimetype": "text/x-python",
   "name": "python",
   "nbconvert_exporter": "python",
   "pygments_lexer": "ipython3",
   "version": "3.9.6"
  },
  "vscode": {
   "interpreter": {
    "hash": "31f2aee4e71d21fbe5cf8b01ff0e069b9275f58929596ceb00d14d90e3e16cd6"
   }
  }
 },
 "nbformat": 4,
 "nbformat_minor": 5
}
